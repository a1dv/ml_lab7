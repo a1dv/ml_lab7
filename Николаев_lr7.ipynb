{
  "cells": [
    {
      "cell_type": "markdown",
      "metadata": {
        "pycharm": {
          "name": "#%% md\n"
        },
        "id": "Zgoi8i6plWlO"
      },
      "source": [
        "### О ЛР:\n",
        "\n",
        "- Coding Gradient boosting\n",
        "\n",
        "----\n",
        "\n",
        "#### Самостоятельная оценка результатов\n",
        "\n",
        "Для удобства проверки, исходя из набора решенных задач, посчитайте свою максимальную оценку (Она тут равняется 6).\n",
        "\n",
        "**Оценка**:\n",
        "\n",
        "***DeadLine - 28.05.2024 23:59***\n",
        "\n",
        "### Формат сдачи\n",
        "Задания сдаются через lms. Вы прикрепляете **ССЫЛКУ НА ПУБЛИЧНЫЙ РЕПОЗИТОРИЙ**, где выполнено ваше задание. Иначе задание не проверяется."
      ]
    },
    {
      "cell_type": "code",
      "execution_count": 1,
      "metadata": {
        "pycharm": {
          "name": "#%%\n"
        },
        "id": "1XDUNTn4lWlP"
      },
      "outputs": [],
      "source": [
        "from warnings import filterwarnings\n",
        "\n",
        "import matplotlib.pyplot as plt\n",
        "import numpy as np\n",
        "import seaborn as sns\n",
        "from scipy.sparse import load_npz\n",
        "from sklearn.model_selection import train_test_split\n",
        "\n",
        "\n",
        "sns.set(style=\"darkgrid\")\n",
        "filterwarnings(\"ignore\")"
      ]
    },
    {
      "cell_type": "code",
      "execution_count": 2,
      "metadata": {
        "pycharm": {
          "name": "#%%\n"
        },
        "id": "yvolL0KvlWlQ"
      },
      "outputs": [],
      "source": [
        "x = load_npz(\"x.npz\")\n",
        "y = np.load(\"y.npy\")"
      ]
    },
    {
      "cell_type": "code",
      "source": [
        "y"
      ],
      "metadata": {
        "colab": {
          "base_uri": "https://localhost:8080/"
        },
        "id": "Qo8R55-mjrCN",
        "outputId": "2a45c3ef-dd5a-4daf-ffc8-56402d114690"
      },
      "execution_count": 34,
      "outputs": [
        {
          "output_type": "execute_result",
          "data": {
            "text/plain": [
              "array([ 1,  1, -1, ..., -1, -1,  1])"
            ]
          },
          "metadata": {},
          "execution_count": 34
        }
      ]
    },
    {
      "cell_type": "markdown",
      "metadata": {
        "pycharm": {
          "name": "#%% md\n"
        },
        "id": "PRMjj9ZslWlQ"
      },
      "source": [
        "Разделим на обучающую, валидационную и тестовую выборки (`random_state` оставьте равным 666 для воспроизводимости)."
      ]
    },
    {
      "cell_type": "code",
      "execution_count": 3,
      "metadata": {
        "pycharm": {
          "name": "#%%\n"
        },
        "id": "Hme6Cf0HlWlR",
        "colab": {
          "base_uri": "https://localhost:8080/"
        },
        "outputId": "e6e4d649-260d-4141-bb79-dd7bd4a2476c"
      },
      "outputs": [
        {
          "output_type": "execute_result",
          "data": {
            "text/plain": [
              "((18825, 169), (2354, 169), (2353, 169))"
            ]
          },
          "metadata": {},
          "execution_count": 3
        }
      ],
      "source": [
        "x_train, x_test, y_train, y_test = train_test_split(\n",
        "    x, y, test_size=0.2, random_state=666\n",
        ")\n",
        "\n",
        "x_test, x_valid, y_test, y_valid = train_test_split(\n",
        "    x_test, y_test, test_size=0.5, random_state=666\n",
        ")\n",
        "\n",
        "x_train.shape, x_valid.shape, x_test.shape"
      ]
    },
    {
      "cell_type": "markdown",
      "metadata": {
        "pycharm": {
          "name": "#%% md\n"
        },
        "id": "tHaBuXarlWlR"
      },
      "source": [
        "## Задание 1. Реализация градиентного бустинга [2 балла]\n",
        "\n",
        "Необходимо дописать код в файле `boosting.py`. Уже создан шаблон класса `Boosting`, который можно модифицировать по своему усмотрению.\n",
        "\n",
        "### Описание функций:\n",
        "\n",
        "#### `__init__`\n",
        "\n",
        "Конструктор класса принимает следующие параметры:\n",
        "\n",
        "- `base_model_class` — класс базовой модели для бустинга.\n",
        "- `base_model_params` — словарь гиперпараметров для базовой модели.\n",
        "- `n_estimators` — количество базовых моделей для обучения.\n",
        "- `learning_rate` — темп обучения, должен быть в диапазоне (0, 1].\n",
        "- `subsample` — доля обучающей выборки для тренировки базовой модели (размер бутстрап-выборки относительно исходной).\n",
        "- `early_stopping_rounds` — число итераций без улучшения на валидационной выборке, после которых обучение прекращается.\n",
        "- `plot` — флаг для построения графика качества моделей после обучения.\n",
        "\n",
        "#### `fit`\n",
        "\n",
        "Метод `fit` принимает обучающую и валидационную выборки.\n",
        "\n",
        "1. Инициализируем нулевую модель и делаем предсказания (например, все нули) для обеих выборок.\n",
        "2. Обучаем `n_estimators` базовых моделей:\n",
        "   - Обучаем новую базовую модель на текущих остатках.\n",
        "   - Обновляем предсказания на обучающей и валидационной выборках.\n",
        "   - Рассчитываем ошибки на обеих выборках с помощью `loss_fn`.\n",
        "   - Проверяем условия для ранней остановки.\n",
        "\n",
        "3. Если флаг `plot` установлен, строим график качества после обучения всех моделей.\n",
        "\n",
        "#### `fit_new_base_model`\n",
        "\n",
        "Метод `fit_new_base_model` принимает обучающую выборку и текущие предсказания для неё.\n",
        "\n",
        "1. Генерируем бутстрап-выборку.\n",
        "2. Обучаем базовую модель на этой выборке.\n",
        "3. Оптимизируем значение гаммы.\n",
        "4. Добавляем новую базовую модель и гамму в соответствующие списки (учитывая `learning_rate`).\n",
        "\n",
        "#### `predict_proba`\n",
        "\n",
        "Метод `predict_proba` принимает выборку для предсказания вероятностей.\n",
        "\n",
        "1. Суммируем предсказания базовых моделей (учитывая гамму и `learning_rate`).\n",
        "2. Применяем сигмоидальную функцию для получения вероятностей."
      ]
    },
    {
      "cell_type": "code",
      "source": [
        "from __future__ import annotations\n",
        "\n",
        "from collections import defaultdict\n",
        "\n",
        "import numpy as np\n",
        "from sklearn.metrics import roc_auc_score\n",
        "from sklearn.tree import DecisionTreeRegressor\n",
        "\n",
        "\n",
        "def score(clf, x, y):\n",
        "    return roc_auc_score(y == 1, clf.predict_proba(x)[:, 1])\n",
        "\n",
        "\n",
        "class Boosting:\n",
        "\n",
        "    def __init__(\n",
        "            self,\n",
        "            base_model_params: dict = None,\n",
        "            n_estimators: int = 10,\n",
        "            learning_rate: float = 0.1,\n",
        "            subsample: float = 0.3,\n",
        "            early_stopping_rounds: int = None,\n",
        "            plot: bool = False,\n",
        "    ):\n",
        "        self.base_model_class = DecisionTreeRegressor\n",
        "        self.base_model_params: dict = {} if base_model_params is None else base_model_params\n",
        "\n",
        "        self.n_estimators: int = n_estimators\n",
        "\n",
        "        self.models: list = []\n",
        "        self.gammas: list = []\n",
        "\n",
        "        self.learning_rate: float = learning_rate\n",
        "        self.subsample: float = subsample\n",
        "\n",
        "        self.early_stopping_rounds: int = early_stopping_rounds\n",
        "        if early_stopping_rounds is not None:\n",
        "            self.validation_loss = np.full(self.early_stopping_rounds, np.inf)\n",
        "\n",
        "        self.plot: bool = plot\n",
        "\n",
        "        self.history = defaultdict(list)\n",
        "\n",
        "        self.sigmoid = lambda x: 1 / (1 + np.exp(-x))\n",
        "        self.loss_fn = lambda y, z: -np.log(self.sigmoid(y * z)).mean()\n",
        "        self.loss_derivative = lambda y, z: -y * self.sigmoid(-y * z)\n",
        "\n",
        "    def fit_new_base_model(self, x, y, predictions):\n",
        "        \"\"\"\n",
        "        Обучает новую базовую модель и добавляет ее в ансамбль.\n",
        "\n",
        "        Параметры\n",
        "        ----------\n",
        "        x : array-like, форма (n_samples, n_features)\n",
        "            Массив признаков для набора данных.\n",
        "        y : array-like, форма (n_samples,)\n",
        "            Массив целевых значений.\n",
        "        predictions : array-like, форма (n_samples,)\n",
        "            Предсказания текущего ансамбля.\n",
        "\n",
        "        Примечания\n",
        "        ----------\n",
        "        Эта функция добавляет новую модель и обновляет ансамбль.\n",
        "        \"\"\"\n",
        "\n",
        "        bootstrap_indices = np.random.choice(\n",
        "            np.arange(x.shape[0]),\n",
        "            size=int(self.subsample * x.shape[0]),\n",
        "            replace=True\n",
        "        )\n",
        "\n",
        "        tree = self.base_model_class(**self.base_model_params)\n",
        "        tree.fit(x[bootstrap_indices], self.loss_derivative(y[bootstrap_indices], predictions[bootstrap_indices]))\n",
        "\n",
        "        new_predictions = tree.predict(x)\n",
        "\n",
        "        gamma = self.find_optimal_gamma(y, predictions, new_predictions)\n",
        "\n",
        "        self.gammas.append(gamma)\n",
        "        self.models.append(tree)\n",
        "\n",
        "\n",
        "    def fit(self, x_train, y_train, x_valid, y_valid):\n",
        "        \"\"\"\n",
        "        Обучает модель на тренировочном наборе данных и выполняет валидацию на валидационном наборе.\n",
        "\n",
        "        Параметры\n",
        "        ----------\n",
        "        x_train : array-like, форма (n_samples, n_features)\n",
        "            Массив признаков для тренировочного набора.\n",
        "        y_train : array-like, форма (n_samples,)\n",
        "            Массив целевых значений для тренировочного набора.\n",
        "        x_valid : array-like, форма (n_samples, n_features)\n",
        "            Массив признаков для валидационного набора.\n",
        "        y_valid : array-like, форма (n_samples,)\n",
        "            Массив целевых значений для валидационного набора.\n",
        "        \"\"\"\n",
        "        train_predictions = np.zeros(y_train.shape[0])\n",
        "        valid_predictions = np.zeros(y_valid.shape[0])\n",
        "\n",
        "        for i in range(self.n_estimators):\n",
        "            self.fit_new_base_model(x_train, y_train, train_predictions)\n",
        "\n",
        "            train_predictions += self.learning_rate * self.gammas[i] * self.models[i].predict(x_train)\n",
        "            valid_predictions += self.learning_rate * self.gammas[i] * self.models[i].predict(x_valid)\n",
        "\n",
        "            train_loss = self.loss_fn(y_train, train_predictions)\n",
        "            valid_loss = self.loss_fn(y_valid, valid_predictions)\n",
        "            self.history['train_loss'].append(train_loss)\n",
        "            self.history['valid_loss'].append(valid_loss)\n",
        "\n",
        "            if self.early_stopping_rounds is not None:\n",
        "                if valid_loss < np.min(self.validation_loss):\n",
        "                    self.validation_loss = np.roll(self.validation_loss, -1)\n",
        "                    self.validation_loss[-1] = valid_loss\n",
        "                else:\n",
        "                    if np.all(valid_loss >= self.validation_loss):\n",
        "                        self.n_estimators = i + 1\n",
        "                        break\n",
        "\n",
        "        if self.plot:\n",
        "            plt.figure(figsize=(10, 5))\n",
        "            plt.plot(range(self.n_estimators), self.history['train_loss'], label='Train Loss')\n",
        "            plt.plot(range(self.n_estimators), self.history['valid_loss'], label='Valid Loss')\n",
        "            plt.xlabel('Iteration')\n",
        "            plt.ylabel('Loss')\n",
        "            plt.title('Training and Validation Loss')\n",
        "            plt.legend()\n",
        "            plt.show()\n",
        "\n",
        "    def predict_proba(self, x):\n",
        "        \"\"\"\n",
        "        Вычисляет вероятности принадлежности классу для каждого образца.\n",
        "\n",
        "        Параметры\n",
        "        ----------\n",
        "        x : array-like, форма (n_samples, n_features)\n",
        "            Массив признаков для набора данных.\n",
        "\n",
        "        Возвращает\n",
        "        ----------\n",
        "        probabilities : array-like, форма (n_samples, n_classes)\n",
        "            Вероятности для каждого класса.\n",
        "        \"\"\"\n",
        "        predictions = np.zeros(x.shape[0])\n",
        "        for gamma, model in zip(self.gammas, self.models):\n",
        "            predictions += self.learning_rate * gamma * model.predict(x)\n",
        "\n",
        "        probabilities = self.sigmoid(predictions)\n",
        "        return np.stack((1 - probabilities, probabilities), axis=1)\n",
        "\n",
        "    def find_optimal_gamma(self, y, old_predictions, new_predictions) -> float:\n",
        "        \"\"\"\n",
        "        Находит оптимальное значение гаммы для минимизации функции потерь.\n",
        "\n",
        "        Параметры\n",
        "        ----------\n",
        "        y : array-like, форма (n_samples,)\n",
        "            Целевые значения.\n",
        "        old_predictions : array-like, форма (n_samples,)\n",
        "            Предыдущие предсказания ансамбля.\n",
        "        new_predictions : array-like, форма (n_samples,)\n",
        "            Новые предсказания базовой модели.\n",
        "\n",
        "        Возвращает\n",
        "        ----------\n",
        "        gamma : float\n",
        "            Оптимальное значение гаммы.\n",
        "\n",
        "        Примечания\n",
        "        ----------\n",
        "        Значение гаммы определяется путем минимизации функции потерь.\n",
        "        \"\"\"\n",
        "        gammas = np.linspace(start=0, stop=1, num=100)\n",
        "        losses = [self.loss_fn(y, old_predictions + gamma * new_predictions) for gamma in gammas]\n",
        "\n",
        "        return gammas[np.argmin(losses)]\n",
        "\n",
        "    def score(self, x, y):\n",
        "        return score(self, x, y)\n",
        "\n",
        "    @property\n",
        "    def feature_importances_(self):\n",
        "        \"\"\"\n",
        "        Возвращает важность признаков в обученной модели.\n",
        "\n",
        "        Возвращает\n",
        "        ----------\n",
        "        importances : array-like, форма (n_features,)\n",
        "            Важность каждого признака.\n",
        "\n",
        "        Примечания\n",
        "        ----------\n",
        "        Важность признаков определяется по вкладу каждого признака в финальную модель.\n",
        "        \"\"\"\n",
        "        if not self.models:\n",
        "            return np.zeros(self.models[0].feature_importances_.shape)\n",
        "\n",
        "        importances = sum(model.feature_importances_ for model in self.models)\n",
        "        return importances / np.sum(importances)"
      ],
      "metadata": {
        "id": "o1ZMd3zugRP9"
      },
      "execution_count": 4,
      "outputs": []
    },
    {
      "cell_type": "code",
      "source": [
        "np.sum(y_train == -1)"
      ],
      "metadata": {
        "colab": {
          "base_uri": "https://localhost:8080/"
        },
        "id": "X8uPaLDoi1s5",
        "outputId": "b229faf1-8602-4024-ced8-644b9be4324c"
      },
      "execution_count": 40,
      "outputs": [
        {
          "output_type": "execute_result",
          "data": {
            "text/plain": [
              "6510"
            ]
          },
          "metadata": {},
          "execution_count": 40
        }
      ]
    },
    {
      "cell_type": "markdown",
      "metadata": {
        "pycharm": {
          "name": "#%% md\n"
        },
        "id": "l7wWK5RplWlT"
      },
      "source": [
        "### Проверка кода\n",
        "\n",
        "У автора задания всё учится около одной секунды."
      ]
    },
    {
      "cell_type": "code",
      "execution_count": 5,
      "metadata": {
        "pycharm": {
          "name": "#%%\n"
        },
        "id": "00lZjzI3lWlT",
        "outputId": "aeca52e8-210d-4c48-8659-9865540beef0",
        "colab": {
          "base_uri": "https://localhost:8080/"
        }
      },
      "outputs": [
        {
          "output_type": "stream",
          "name": "stdout",
          "text": [
            "Train ROC-AUC 0.5000\n",
            "Valid ROC-AUC 0.5000\n",
            "Test ROC-AUC 0.5000\n"
          ]
        }
      ],
      "source": [
        "boosting = Boosting()\n",
        "#% time\n",
        "boosting.fit(x_train, y_train, x_valid, y_valid)\n",
        "\n",
        "assert len(boosting.models) == boosting.n_estimators\n",
        "assert len(boosting.gammas) == boosting.n_estimators\n",
        "\n",
        "assert boosting.predict_proba(x_test).shape == (x_test.shape[0], 2)\n",
        "\n",
        "print(f'Train ROC-AUC {boosting.score(x_train, y_train):.4f}')\n",
        "print(f'Valid ROC-AUC {boosting.score(x_valid, y_valid):.4f}')\n",
        "print(f'Test ROC-AUC {boosting.score(x_test, y_test):.4f}')"
      ]
    },
    {
      "cell_type": "markdown",
      "metadata": {
        "pycharm": {
          "name": "#%% md\n"
        },
        "id": "MlU-c9CxlWlU"
      },
      "source": [
        "## Задание 2. Обучение градиентного бустинга [0.5 балла]\n",
        "\n",
        "Оцените качество вашей реализации градиентного бустинга на тестовой выборке, используя базовые модели — решающие деревья с различной максимальной глубиной. Метрикой будет ROC-AUC.\n",
        "\n",
        "**Инструкция:**\n",
        "1. Перебирайте значения максимальной глубины деревьев от 1 до 30 с шагом 2.\n",
        "2. Оставьте остальные параметры бустинга по умолчанию.\n",
        "3. Постройте график зависимости качества на обучающей и тестовой выборке от максимальной глубины деревьев."
      ]
    },
    {
      "cell_type": "code",
      "source": [
        "results = {}\n",
        "\n",
        "depths = range(1, 30, 2)\n",
        "\n",
        "for depth in depths:\n",
        "    boosting = Boosting(base_model_params={'max_depth': depth})\n",
        "    boosting.fit(x_train, y_train, x_valid, y_valid)\n",
        "    results[depth] = {\n",
        "        'train': boosting.score(x_train, y_train),\n",
        "        'test': boosting.score(x_test, y_test)\n",
        "    }\n",
        "\n",
        "plt.figure(figsize=(10, 5))\n",
        "plt.plot(list(results.keys()), [results[depth]['train'] for depth in results], label='Train')\n",
        "plt.plot(list(results.keys()), [results[depth]['test'] for depth in results], label='Test')\n",
        "plt.xlabel('Max Depth')\n",
        "plt.ylabel('ROC-AUC')\n",
        "plt.title('Boosting Performance vs Max Depth')\n",
        "plt.legend()\n",
        "plt.show()"
      ],
      "metadata": {
        "colab": {
          "base_uri": "https://localhost:8080/",
          "height": 496
        },
        "id": "vou3OxJDhGVM",
        "outputId": "0f4b2c75-03ce-4554-89d1-65a5850d43ba"
      },
      "execution_count": 10,
      "outputs": [
        {
          "output_type": "display_data",
          "data": {
            "text/plain": [
              "<Figure size 1000x500 with 1 Axes>"
            ],
            "image/png": "[encoded data removed]"
          },
          "metadata": {}
        }
      ]
    },
    {
      "cell_type": "markdown",
      "metadata": {
        "pycharm": {
          "name": "#%% md\n"
        },
        "id": "bshz0JV6lWlV"
      },
      "source": [
        "**Какая из моделей имеет лучшее качество? Как вы можете это объяснить?**\n",
        "\n",
        "Все модели показывают одинаковый результат"
      ]
    },
    {
      "cell_type": "markdown",
      "metadata": {
        "id": "8FwaUsmqlWlV"
      },
      "source": [
        "## Задание 3. Подбор гиперпараметров и поиск оптимальной модели [3 балла]\n",
        "\n",
        "Настройте основные гиперпараметры вашей модели градиентного бустинга, используя валидационную выборку. Подберите параметры как для самого бустинга, так и для базовых моделей.\n",
        "\n",
        "**Рекомендации:**\n",
        "- Используйте библиотеки для автоматизированного подбора гиперпараметров, такие как [Hyperopt](https://github.com/hyperopt/hyperopt) или [Optuna](https://optuna.org/).\n",
        "- Подберите все основные параметры, чтобы найти лучшую модель на валидационной выборке."
      ]
    },
    {
      "cell_type": "code",
      "source": [
        "!pip install optuna==3.2.0"
      ],
      "metadata": {
        "colab": {
          "base_uri": "https://localhost:8080/"
        },
        "id": "xfoaYLs2Slrt",
        "outputId": "ff4faf45-6cee-4aac-83ce-82326903f85a"
      },
      "execution_count": 11,
      "outputs": [
        {
          "output_type": "stream",
          "name": "stdout",
          "text": [
            "Collecting optuna==3.2.0\n",
            "  Downloading optuna-3.2.0-py3-none-any.whl.metadata (17 kB)\n",
            "Collecting alembic>=1.5.0 (from optuna==3.2.0)\n",
            "  Downloading alembic-1.13.2-py3-none-any.whl.metadata (7.4 kB)\n",
            "Collecting cmaes>=0.9.1 (from optuna==3.2.0)\n",
            "  Downloading cmaes-0.11.1-py3-none-any.whl.metadata (18 kB)\n",
            "Collecting colorlog (from optuna==3.2.0)\n",
            "  Downloading colorlog-6.8.2-py3-none-any.whl.metadata (10 kB)\n",
            "Requirement already satisfied: numpy in /usr/local/lib/python3.10/dist-packages (from optuna==3.2.0) (1.26.4)\n",
            "Requirement already satisfied: packaging>=20.0 in /usr/local/lib/python3.10/dist-packages (from optuna==3.2.0) (24.1)\n",
            "Requirement already satisfied: sqlalchemy>=1.3.0 in /usr/local/lib/python3.10/dist-packages (from optuna==3.2.0) (2.0.35)\n",
            "Requirement already satisfied: tqdm in /usr/local/lib/python3.10/dist-packages (from optuna==3.2.0) (4.66.5)\n",
            "Requirement already satisfied: PyYAML in /usr/local/lib/python3.10/dist-packages (from optuna==3.2.0) (6.0.2)\n",
            "Collecting Mako (from alembic>=1.5.0->optuna==3.2.0)\n",
            "  Downloading Mako-1.3.5-py3-none-any.whl.metadata (2.9 kB)\n",
            "Requirement already satisfied: typing-extensions>=4 in /usr/local/lib/python3.10/dist-packages (from alembic>=1.5.0->optuna==3.2.0) (4.12.2)\n",
            "Requirement already satisfied: greenlet!=0.4.17 in /usr/local/lib/python3.10/dist-packages (from sqlalchemy>=1.3.0->optuna==3.2.0) (3.1.0)\n",
            "Requirement already satisfied: MarkupSafe>=0.9.2 in /usr/local/lib/python3.10/dist-packages (from Mako->alembic>=1.5.0->optuna==3.2.0) (2.1.5)\n",
            "Downloading optuna-3.2.0-py3-none-any.whl (390 kB)\n",
            "\u001b[2K   \u001b[90m━━━━━━━━━━━━━━━━━━━━━━━━━━━━━━━━━━━━━━━━\u001b[0m \u001b[32m390.6/390.6 kB\u001b[0m \u001b[31m10.7 MB/s\u001b[0m eta \u001b[36m0:00:00\u001b[0m\n",
            "\u001b[?25hDownloading alembic-1.13.2-py3-none-any.whl (232 kB)\n",
            "\u001b[2K   \u001b[90m━━━━━━━━━━━━━━━━━━━━━━━━━━━━━━━━━━━━━━━━\u001b[0m \u001b[32m233.0/233.0 kB\u001b[0m \u001b[31m17.6 MB/s\u001b[0m eta \u001b[36m0:00:00\u001b[0m\n",
            "\u001b[?25hDownloading cmaes-0.11.1-py3-none-any.whl (35 kB)\n",
            "Downloading colorlog-6.8.2-py3-none-any.whl (11 kB)\n",
            "Downloading Mako-1.3.5-py3-none-any.whl (78 kB)\n",
            "\u001b[2K   \u001b[90m━━━━━━━━━━━━━━━━━━━━━━━━━━━━━━━━━━━━━━━━\u001b[0m \u001b[32m78.6/78.6 kB\u001b[0m \u001b[31m6.3 MB/s\u001b[0m eta \u001b[36m0:00:00\u001b[0m\n",
            "\u001b[?25hInstalling collected packages: Mako, colorlog, cmaes, alembic, optuna\n",
            "Successfully installed Mako-1.3.5 alembic-1.13.2 cmaes-0.11.1 colorlog-6.8.2 optuna-3.2.0\n"
          ]
        }
      ]
    },
    {
      "cell_type": "code",
      "source": [
        "import optuna\n",
        "\n",
        "def objective(trial):\n",
        "    n_estimators = trial.suggest_int(\"n_estimators\", 10, 100)\n",
        "    learning_rate = trial.suggest_float(\"learning_rate\", 0.01, 0.5)\n",
        "    subsample = trial.suggest_float(\"subsample\", 0.1, 1.0)\n",
        "\n",
        "    max_depth = trial.suggest_int(\"max_depth\", 1, 10)\n",
        "\n",
        "    boosting = Boosting(\n",
        "        base_model_params={\"max_depth\": max_depth},\n",
        "        n_estimators=n_estimators,\n",
        "        learning_rate=learning_rate,\n",
        "        subsample=subsample,\n",
        "    )\n",
        "    boosting.fit(x_train, y_train, x_valid, y_valid)\n",
        "\n",
        "    return boosting.score(x_valid, y_valid)\n",
        "\n",
        "\n",
        "study = optuna.create_study(direction=\"maximize\")\n",
        "study.optimize(objective, n_trials=50)\n",
        "\n",
        "print(\"Best trial:\")\n",
        "trial = study.best_trial\n",
        "print(\"  Value: \", trial.value)\n",
        "print(\"  Params: \")\n",
        "for key, value in trial.params.items():\n",
        "    print(\"    {}: {}\".format(key, value))\n",
        "\n",
        "best_params = trial.params\n",
        "best_boosting = Boosting(\n",
        "    base_model_params={\"max_depth\": best_params[\"max_depth\"]},\n",
        "    n_estimators=best_params[\"n_estimators\"],\n",
        "    learning_rate=best_params[\"learning_rate\"],\n",
        "    subsample=best_params[\"subsample\"],\n",
        ")\n",
        "best_boosting.fit(x_train, y_train, x_valid, y_valid)\n",
        "\n",
        "print(f\"Train ROC-AUC: {best_boosting.score(x_train, y_train):.4f}\")\n",
        "print(f\"Valid ROC-AUC: {best_boosting.score(x_valid, y_valid):.4f}\")\n",
        "print(f\"Test ROC-AUC: {best_boosting.score(x_test, y_test):.4f}\")\n"
      ],
      "metadata": {
        "colab": {
          "base_uri": "https://localhost:8080/"
        },
        "id": "bUZeYKJuCaKr",
        "outputId": "866d3f27-f8d6-49f5-881b-d8328ebf26b5"
      },
      "execution_count": 14,
      "outputs": [
        {
          "output_type": "stream",
          "name": "stderr",
          "text": [
            "[I 2024-09-20 20:05:06,458] A new study created in memory with name: no-name-a5d3ee56-021c-4977-a19b-783bc6821ba9\n",
            "[I 2024-09-20 20:05:08,383] Trial 0 finished with value: 0.5 and parameters: {'n_estimators': 36, 'learning_rate': 0.21363618797025288, 'subsample': 0.2305741596817738, 'max_depth': 1}. Best is trial 0 with value: 0.5.\n",
            "[I 2024-09-20 20:05:10,665] Trial 1 finished with value: 0.5 and parameters: {'n_estimators': 42, 'learning_rate': 0.46837285394492373, 'subsample': 0.30105873386779697, 'max_depth': 1}. Best is trial 0 with value: 0.5.\n",
            "[I 2024-09-20 20:05:18,561] Trial 2 finished with value: 0.5 and parameters: {'n_estimators': 89, 'learning_rate': 0.11971100042026288, 'subsample': 0.44953189421416984, 'max_depth': 3}. Best is trial 0 with value: 0.5.\n",
            "[I 2024-09-20 20:05:23,284] Trial 3 finished with value: 0.5 and parameters: {'n_estimators': 59, 'learning_rate': 0.13257291130121032, 'subsample': 0.7051672863717943, 'max_depth': 5}. Best is trial 0 with value: 0.5.\n",
            "[I 2024-09-20 20:05:26,140] Trial 4 finished with value: 0.5 and parameters: {'n_estimators': 53, 'learning_rate': 0.08946885921294509, 'subsample': 0.3343360717388468, 'max_depth': 1}. Best is trial 0 with value: 0.5.\n",
            "[I 2024-09-20 20:05:37,842] Trial 5 finished with value: 0.5 and parameters: {'n_estimators': 85, 'learning_rate': 0.4337130228939913, 'subsample': 0.6591416477201131, 'max_depth': 9}. Best is trial 0 with value: 0.5.\n",
            "[I 2024-09-20 20:05:41,697] Trial 6 finished with value: 0.5 and parameters: {'n_estimators': 56, 'learning_rate': 0.40363970158109563, 'subsample': 0.4509672750173378, 'max_depth': 2}. Best is trial 0 with value: 0.5.\n",
            "[I 2024-09-20 20:05:45,549] Trial 7 finished with value: 0.5 and parameters: {'n_estimators': 44, 'learning_rate': 0.2480700596424457, 'subsample': 0.8365161298575386, 'max_depth': 4}. Best is trial 0 with value: 0.5.\n",
            "[I 2024-09-20 20:05:50,326] Trial 8 finished with value: 0.5 and parameters: {'n_estimators': 54, 'learning_rate': 0.16968593795522352, 'subsample': 0.9324373902526131, 'max_depth': 5}. Best is trial 0 with value: 0.5.\n",
            "[I 2024-09-20 20:05:56,336] Trial 9 finished with value: 0.5 and parameters: {'n_estimators': 83, 'learning_rate': 0.3261847221434252, 'subsample': 0.5797085637633157, 'max_depth': 2}. Best is trial 0 with value: 0.5.\n",
            "[I 2024-09-20 20:05:57,013] Trial 10 finished with value: 0.5 and parameters: {'n_estimators': 10, 'learning_rate': 0.016743818092472607, 'subsample': 0.12282971968743944, 'max_depth': 8}. Best is trial 0 with value: 0.5.\n",
            "[I 2024-09-20 20:05:58,420] Trial 11 finished with value: 0.5 and parameters: {'n_estimators': 26, 'learning_rate': 0.4794443592457242, 'subsample': 0.18907958497436222, 'max_depth': 1}. Best is trial 0 with value: 0.5.\n",
            "[I 2024-09-20 20:06:00,726] Trial 12 finished with value: 0.5 and parameters: {'n_estimators': 31, 'learning_rate': 0.32758744541731505, 'subsample': 0.27317202187919426, 'max_depth': 7}. Best is trial 0 with value: 0.5.\n",
            "[I 2024-09-20 20:06:02,524] Trial 13 finished with value: 0.5 and parameters: {'n_estimators': 33, 'learning_rate': 0.4875250645037361, 'subsample': 0.10642585925670206, 'max_depth': 3}. Best is trial 0 with value: 0.5.\n",
            "[I 2024-09-20 20:06:06,376] Trial 14 finished with value: 0.5 and parameters: {'n_estimators': 71, 'learning_rate': 0.2323585346694114, 'subsample': 0.2854956185340229, 'max_depth': 1}. Best is trial 0 with value: 0.5.\n",
            "[I 2024-09-20 20:06:08,334] Trial 15 finished with value: 0.5 and parameters: {'n_estimators': 17, 'learning_rate': 0.3219985569767737, 'subsample': 0.3931885981047955, 'max_depth': 6}. Best is trial 0 with value: 0.5.\n",
            "[I 2024-09-20 20:06:12,258] Trial 16 finished with value: 0.5 and parameters: {'n_estimators': 42, 'learning_rate': 0.20500402386780073, 'subsample': 0.2471777777807811, 'max_depth': 10}. Best is trial 0 with value: 0.5.\n",
            "[I 2024-09-20 20:06:16,400] Trial 17 finished with value: 0.5 and parameters: {'n_estimators': 70, 'learning_rate': 0.28855674554143607, 'subsample': 0.3958272096041465, 'max_depth': 3}. Best is trial 0 with value: 0.5.\n",
            "[I 2024-09-20 20:06:22,998] Trial 18 finished with value: 0.5 and parameters: {'n_estimators': 99, 'learning_rate': 0.37825259812560363, 'subsample': 0.2223531804871903, 'max_depth': 2}. Best is trial 0 with value: 0.5.\n",
            "[I 2024-09-20 20:06:25,773] Trial 19 finished with value: 0.5 and parameters: {'n_estimators': 41, 'learning_rate': 0.2709569852300317, 'subsample': 0.5086199631162329, 'max_depth': 4}. Best is trial 0 with value: 0.5.\n",
            "[I 2024-09-20 20:06:27,197] Trial 20 finished with value: 0.5 and parameters: {'n_estimators': 22, 'learning_rate': 0.3659399574428777, 'subsample': 0.3610530219228618, 'max_depth': 4}. Best is trial 0 with value: 0.5.\n",
            "[I 2024-09-20 20:06:33,155] Trial 21 finished with value: 0.5 and parameters: {'n_estimators': 99, 'learning_rate': 0.20222431879097658, 'subsample': 0.479115563525521, 'max_depth': 3}. Best is trial 0 with value: 0.5.\n",
            "[I 2024-09-20 20:06:36,225] Trial 22 finished with value: 0.5 and parameters: {'n_estimators': 36, 'learning_rate': 0.14448965021764873, 'subsample': 0.28888397612107963, 'max_depth': 1}. Best is trial 0 with value: 0.5.\n",
            "[I 2024-09-20 20:06:39,757] Trial 23 finished with value: 0.5 and parameters: {'n_estimators': 65, 'learning_rate': 0.09194995679940499, 'subsample': 0.18507072564137578, 'max_depth': 2}. Best is trial 0 with value: 0.5.\n",
            "[I 2024-09-20 20:06:43,251] Trial 24 finished with value: 0.5 and parameters: {'n_estimators': 48, 'learning_rate': 0.43725058682645923, 'subsample': 0.42039856995202257, 'max_depth': 3}. Best is trial 0 with value: 0.5.\n",
            "[I 2024-09-20 20:06:50,240] Trial 25 finished with value: 0.5 and parameters: {'n_estimators': 82, 'learning_rate': 0.2247957938720746, 'subsample': 0.3486762079443773, 'max_depth': 1}. Best is trial 0 with value: 0.5.\n",
            "[I 2024-09-20 20:06:55,391] Trial 26 finished with value: 0.5 and parameters: {'n_estimators': 89, 'learning_rate': 0.26554133727519913, 'subsample': 0.5167699076462756, 'max_depth': 2}. Best is trial 0 with value: 0.5.\n",
            "[I 2024-09-20 20:06:59,543] Trial 27 finished with value: 0.5 and parameters: {'n_estimators': 74, 'learning_rate': 0.18418493154187532, 'subsample': 0.33125098149066423, 'max_depth': 2}. Best is trial 0 with value: 0.5.\n",
            "[I 2024-09-20 20:07:04,555] Trial 28 finished with value: 0.5 and parameters: {'n_estimators': 49, 'learning_rate': 0.2316876871466375, 'subsample': 0.43156872400544494, 'max_depth': 6}. Best is trial 0 with value: 0.5.\n",
            "[I 2024-09-20 20:07:08,996] Trial 29 finished with value: 0.5 and parameters: {'n_estimators': 64, 'learning_rate': 0.1538891231770163, 'subsample': 0.6012570823359097, 'max_depth': 4}. Best is trial 0 with value: 0.5.\n",
            "[I 2024-09-20 20:07:12,604] Trial 30 finished with value: 0.5 and parameters: {'n_estimators': 61, 'learning_rate': 0.1256560938801331, 'subsample': 0.17268932498948036, 'max_depth': 5}. Best is trial 0 with value: 0.5.\n",
            "[I 2024-09-20 20:07:15,152] Trial 31 finished with value: 0.5 and parameters: {'n_estimators': 34, 'learning_rate': 0.11014747102671643, 'subsample': 0.7140561708142842, 'max_depth': 1}. Best is trial 0 with value: 0.5.\n",
            "[I 2024-09-20 20:07:22,495] Trial 32 finished with value: 0.5 and parameters: {'n_estimators': 92, 'learning_rate': 0.06060208645786393, 'subsample': 0.5432629736517367, 'max_depth': 5}. Best is trial 0 with value: 0.5.\n",
            "[I 2024-09-20 20:07:25,888] Trial 33 finished with value: 0.5 and parameters: {'n_estimators': 57, 'learning_rate': 0.14038972632182944, 'subsample': 0.32986277206006864, 'max_depth': 3}. Best is trial 0 with value: 0.5.\n",
            "[I 2024-09-20 20:07:33,294] Trial 34 finished with value: 0.5 and parameters: {'n_estimators': 76, 'learning_rate': 0.1726065928644157, 'subsample': 0.45514895852198195, 'max_depth': 7}. Best is trial 0 with value: 0.5.\n",
            "[I 2024-09-20 20:07:36,772] Trial 35 finished with value: 0.5 and parameters: {'n_estimators': 49, 'learning_rate': 0.11186005501634631, 'subsample': 0.6924755070569393, 'max_depth': 4}. Best is trial 0 with value: 0.5.\n",
            "[I 2024-09-20 20:07:39,026] Trial 36 finished with value: 0.5 and parameters: {'n_estimators': 38, 'learning_rate': 0.1700470955805306, 'subsample': 0.619953536931974, 'max_depth': 2}. Best is trial 0 with value: 0.5.\n",
            "[I 2024-09-20 20:07:42,295] Trial 37 finished with value: 0.5 and parameters: {'n_estimators': 29, 'learning_rate': 0.07515159820039463, 'subsample': 0.47538726675480164, 'max_depth': 7}. Best is trial 0 with value: 0.5.\n",
            "[I 2024-09-20 20:07:43,979] Trial 38 finished with value: 0.5 and parameters: {'n_estimators': 22, 'learning_rate': 0.4401657943790554, 'subsample': 0.7569767637954644, 'max_depth': 1}. Best is trial 0 with value: 0.5.\n",
            "[I 2024-09-20 20:07:50,745] Trial 39 finished with value: 0.5 and parameters: {'n_estimators': 46, 'learning_rate': 0.19577343095089705, 'subsample': 0.9905458156828915, 'max_depth': 5}. Best is trial 0 with value: 0.5.\n",
            "[I 2024-09-20 20:08:01,150] Trial 40 finished with value: 0.5 and parameters: {'n_estimators': 55, 'learning_rate': 0.147793506339537, 'subsample': 0.5778720739099741, 'max_depth': 8}. Best is trial 0 with value: 0.5.\n",
            "[I 2024-09-20 20:08:04,634] Trial 41 finished with value: 0.5 and parameters: {'n_estimators': 52, 'learning_rate': 0.04952675450275101, 'subsample': 0.3111956717002331, 'max_depth': 1}. Best is trial 0 with value: 0.5.\n",
            "[I 2024-09-20 20:08:07,507] Trial 42 finished with value: 0.5 and parameters: {'n_estimators': 44, 'learning_rate': 0.1214630063332424, 'subsample': 0.23957383003736032, 'max_depth': 2}. Best is trial 0 with value: 0.5.\n",
            "[I 2024-09-20 20:08:12,424] Trial 43 finished with value: 0.5 and parameters: {'n_estimators': 60, 'learning_rate': 0.08820432026409511, 'subsample': 0.3734961092916082, 'max_depth': 1}. Best is trial 0 with value: 0.5.\n",
            "[I 2024-09-20 20:08:14,743] Trial 44 finished with value: 0.5 and parameters: {'n_estimators': 40, 'learning_rate': 0.02855458612247168, 'subsample': 0.27906949951593085, 'max_depth': 3}. Best is trial 0 with value: 0.5.\n",
            "[I 2024-09-20 20:08:19,308] Trial 45 finished with value: 0.5 and parameters: {'n_estimators': 80, 'learning_rate': 0.0979273154184103, 'subsample': 0.40899241148552434, 'max_depth': 2}. Best is trial 0 with value: 0.5.\n",
            "[I 2024-09-20 20:08:20,013] Trial 46 finished with value: 0.5 and parameters: {'n_estimators': 13, 'learning_rate': 0.49658995234531933, 'subsample': 0.1537365157608238, 'max_depth': 1}. Best is trial 0 with value: 0.5.\n",
            "[I 2024-09-20 20:08:21,850] Trial 47 finished with value: 0.5 and parameters: {'n_estimators': 27, 'learning_rate': 0.46573843729079833, 'subsample': 0.2190520660787687, 'max_depth': 3}. Best is trial 0 with value: 0.5.\n",
            "[I 2024-09-20 20:08:26,630] Trial 48 finished with value: 0.5 and parameters: {'n_estimators': 66, 'learning_rate': 0.16077328371983618, 'subsample': 0.38007460393236636, 'max_depth': 2}. Best is trial 0 with value: 0.5.\n",
            "[I 2024-09-20 20:08:30,184] Trial 49 finished with value: 0.5 and parameters: {'n_estimators': 53, 'learning_rate': 0.12723994417325366, 'subsample': 0.25897409330616417, 'max_depth': 6}. Best is trial 0 with value: 0.5.\n"
          ]
        },
        {
          "output_type": "stream",
          "name": "stdout",
          "text": [
            "Best trial:\n",
            "  Value:  0.5\n",
            "  Params: \n",
            "    n_estimators: 36\n",
            "    learning_rate: 0.21363618797025288\n",
            "    subsample: 0.2305741596817738\n",
            "    max_depth: 1\n",
            "Train ROC-AUC: 0.5000\n",
            "Valid ROC-AUC: 0.5000\n",
            "Test ROC-AUC: 0.5000\n"
          ]
        }
      ]
    },
    {
      "cell_type": "markdown",
      "metadata": {
        "pycharm": {
          "name": "#%% md\n"
        },
        "id": "hGk-Wt_slWlV"
      },
      "source": [
        "## Задание 4. Интерпретация градиентного бустинга [1 балл]\n",
        "\n",
        "Постройте калибровочную кривую для вашей лучшей модели градиентного бустинга и оцените, насколько точно модель предсказывает вероятности.\n",
        "\n",
        "**Инструкция:**\n",
        "1. Постройте калибровочную кривую для лучшей модели градиентного бустинга.\n",
        "2. Постройте аналогичную кривую для логистической регрессии.\n",
        "3. Сравните полученные результаты и проанализируйте, насколько хорошо каждая модель оценивает вероятности."
      ]
    },
    {
      "cell_type": "code",
      "execution_count": null,
      "metadata": {
        "pycharm": {
          "name": "#%%\n"
        },
        "id": "LdJG4bHClWlV"
      },
      "outputs": [],
      "source": [
        "### ╰( ͡☉ ͜ʖ ͡☉ )つ──☆*:・ﾟ   ฅ^•ﻌ•^ฅ   ʕ•ᴥ•ʔ"
      ]
    },
    {
      "cell_type": "markdown",
      "metadata": {
        "pycharm": {
          "name": "#%% md\n"
        },
        "id": "8O6bjp2MlWlW"
      },
      "source": [
        "Теперь оценим важность признаков для градиентного бустинга.\n",
        "\n",
        "**Задание:**\n",
        "1. Поскольку базовая модель — дерево из `sklearn`, вычислите важность каждого признака для каждого дерева, используя атрибут `feature_importances_` у `DecisionTreeRegressor`.\n",
        "2. Усредните значения важности по всем деревьям и нормализуйте их так, чтобы сумма была равна единице (убедитесь, что значения неотрицательны).\n",
        "3. Дополните вашу реализацию бустинга, добавив метод `feature_importances_`, который будет возвращать усредненные и нормализованные важности признаков.\n",
        "\n",
        "**Построение графиков:**\n",
        "1. Постройте столбчатую диаграмму важности признаков для градиентного бустинга.\n",
        "2. На соседнем графике изобразите важность признаков для логистической регрессии, используя модули весов.\n",
        "3. Сравните графики и проанализируйте полученные результаты."
      ]
    },
    {
      "cell_type": "code",
      "execution_count": null,
      "metadata": {
        "pycharm": {
          "name": "#%%\n"
        },
        "id": "y0JNgBk_lWlW"
      },
      "outputs": [],
      "source": [
        "### ╰( ͡☉ ͜ʖ ͡☉ )つ──☆*:・ﾟ   ฅ^•ﻌ•^ฅ   ʕ•ᴥ•ʔ"
      ]
    },
    {
      "cell_type": "markdown",
      "metadata": {
        "pycharm": {
          "name": "#%% md\n"
        },
        "id": "xheSi2IolWlW"
      },
      "source": [
        "Обычно избыточные признаки могут негативно влиять на качество бустинга. Попробуйте следующее:\n",
        "\n",
        "1. **Отфильтруйте неважные признаки:** Используйте построенную диаграмму важности признаков, чтобы отобрать наиболее незначительные признаки.\n",
        "2. **Обучите модель повторно:** Обучите модель на основе оставшихся признаков с теми же гиперпараметрами.\n",
        "3. **Оцените качество модели:** Сравните результаты новой модели с исходной. Улучшилось ли качество после отфильтровывания незначительных признаков?"
      ]
    },
    {
      "cell_type": "code",
      "execution_count": null,
      "metadata": {
        "pycharm": {
          "name": "#%%\n"
        },
        "id": "Rw9W9MEYlWlW"
      },
      "outputs": [],
      "source": [
        "### ╰( ͡☉ ͜ʖ ͡☉ )つ──☆*:・ﾟ   ฅ^•ﻌ•^ฅ   ʕ•ᴥ•ʔ"
      ]
    },
    {
      "cell_type": "markdown",
      "metadata": {
        "pycharm": {
          "name": "#%% md\n"
        },
        "id": "pH3489RklWlW"
      },
      "source": [
        "## Задание 5 (бонус). Блендинговое [0.5 балла]\n",
        "\n",
        "Реализуйте блендинг над вашей лучшей моделью и логистической регрессией. Улучшилось ли качество?"
      ]
    },
    {
      "cell_type": "code",
      "execution_count": null,
      "metadata": {
        "pycharm": {
          "name": "#%%\n"
        },
        "id": "FWcDMMVilWlW"
      },
      "outputs": [],
      "source": [
        "### ╰( ͡☉ ͜ʖ ͡☉ )つ──☆*:・ﾟ   ฅ^•ﻌ•^ฅ   ʕ•ᴥ•ʔ"
      ]
    },
    {
      "cell_type": "markdown",
      "metadata": {
        "collapsed": false,
        "pycharm": {
          "name": "#%% md\n"
        },
        "id": "eEF0yJ4vlWlX"
      },
      "source": [
        "## Задание 6 (бонус). Катбустовое [0.5 балла]\n",
        "\n",
        "Запустите [CatBoost](https://catboost.ai/en/docs/concepts/python-quickstart) на наших данных, сравните с вашей реализацией. Где получилось лучше?"
      ]
    },
    {
      "cell_type": "code",
      "source": [
        "!pip install catboost\n"
      ],
      "metadata": {
        "colab": {
          "base_uri": "https://localhost:8080/"
        },
        "id": "ebJRoJCaTo5i",
        "outputId": "e5109025-99ae-4112-f288-da124bd2b21c"
      },
      "execution_count": 7,
      "outputs": [
        {
          "output_type": "stream",
          "name": "stdout",
          "text": [
            "Collecting catboost\n",
            "  Downloading catboost-1.2.7-cp310-cp310-manylinux2014_x86_64.whl.metadata (1.2 kB)\n",
            "Requirement already satisfied: graphviz in /usr/local/lib/python3.10/dist-packages (from catboost) (0.20.3)\n",
            "Requirement already satisfied: matplotlib in /usr/local/lib/python3.10/dist-packages (from catboost) (3.7.1)\n",
            "Requirement already satisfied: numpy<2.0,>=1.16.0 in /usr/local/lib/python3.10/dist-packages (from catboost) (1.26.4)\n",
            "Requirement already satisfied: pandas>=0.24 in /usr/local/lib/python3.10/dist-packages (from catboost) (2.1.4)\n",
            "Requirement already satisfied: scipy in /usr/local/lib/python3.10/dist-packages (from catboost) (1.13.1)\n",
            "Requirement already satisfied: plotly in /usr/local/lib/python3.10/dist-packages (from catboost) (5.15.0)\n",
            "Requirement already satisfied: six in /usr/local/lib/python3.10/dist-packages (from catboost) (1.16.0)\n",
            "Requirement already satisfied: python-dateutil>=2.8.2 in /usr/local/lib/python3.10/dist-packages (from pandas>=0.24->catboost) (2.8.2)\n",
            "Requirement already satisfied: pytz>=2020.1 in /usr/local/lib/python3.10/dist-packages (from pandas>=0.24->catboost) (2024.2)\n",
            "Requirement already satisfied: tzdata>=2022.1 in /usr/local/lib/python3.10/dist-packages (from pandas>=0.24->catboost) (2024.1)\n",
            "Requirement already satisfied: contourpy>=1.0.1 in /usr/local/lib/python3.10/dist-packages (from matplotlib->catboost) (1.3.0)\n",
            "Requirement already satisfied: cycler>=0.10 in /usr/local/lib/python3.10/dist-packages (from matplotlib->catboost) (0.12.1)\n",
            "Requirement already satisfied: fonttools>=4.22.0 in /usr/local/lib/python3.10/dist-packages (from matplotlib->catboost) (4.53.1)\n",
            "Requirement already satisfied: kiwisolver>=1.0.1 in /usr/local/lib/python3.10/dist-packages (from matplotlib->catboost) (1.4.7)\n",
            "Requirement already satisfied: packaging>=20.0 in /usr/local/lib/python3.10/dist-packages (from matplotlib->catboost) (24.1)\n",
            "Requirement already satisfied: pillow>=6.2.0 in /usr/local/lib/python3.10/dist-packages (from matplotlib->catboost) (10.4.0)\n",
            "Requirement already satisfied: pyparsing>=2.3.1 in /usr/local/lib/python3.10/dist-packages (from matplotlib->catboost) (3.1.4)\n",
            "Requirement already satisfied: tenacity>=6.2.0 in /usr/local/lib/python3.10/dist-packages (from plotly->catboost) (9.0.0)\n",
            "Downloading catboost-1.2.7-cp310-cp310-manylinux2014_x86_64.whl (98.7 MB)\n",
            "\u001b[2K   \u001b[90m━━━━━━━━━━━━━━━━━━━━━━━━━━━━━━━━━━━━━━━━\u001b[0m \u001b[32m98.7/98.7 MB\u001b[0m \u001b[31m6.6 MB/s\u001b[0m eta \u001b[36m0:00:00\u001b[0m\n",
            "\u001b[?25hInstalling collected packages: catboost\n",
            "Successfully installed catboost-1.2.7\n"
          ]
        }
      ]
    },
    {
      "cell_type": "code",
      "execution_count": 13,
      "metadata": {
        "pycharm": {
          "name": "#%%\n"
        },
        "id": "0lYGhc_clWlX",
        "colab": {
          "base_uri": "https://localhost:8080/"
        },
        "outputId": "216602d0-1e18-46d5-d325-4bc16b191310"
      },
      "outputs": [
        {
          "output_type": "stream",
          "name": "stdout",
          "text": [
            "Test ROC-AUC with CatBoost: 0.8976\n",
            "Test ROC-AUC with my implementation: 0.5000\n",
            "CatBoost achieved better performance.\n"
          ]
        }
      ],
      "source": [
        "from catboost import CatBoostClassifier\n",
        "\n",
        "catboost_model = CatBoostClassifier(\n",
        "    iterations=trial.params['n_estimators'],\n",
        "    learning_rate=trial.params['learning_rate'],\n",
        "    depth=trial.params['max_depth'],\n",
        "    subsample=trial.params['subsample'],\n",
        "    verbose=False\n",
        ")\n",
        "catboost_model.fit(x_train, y_train)\n",
        "\n",
        "score_test_catboost = catboost_model.score(x_test, y_test)\n",
        "print(f'Test ROC-AUC with CatBoost: {score_test_catboost:.4f}')\n",
        "\n",
        "print(f'Test ROC-AUC with my implementation: {score_test:.4f}')\n",
        "\n",
        "if score_test_catboost > score_test:\n",
        "    print(\"CatBoost achieved better performance.\")\n",
        "else:\n",
        "    print(\"My implementation achieved better performance.\")\n"
      ]
    },
    {
      "cell_type": "markdown",
      "source": [
        "Оставьте пожалуйста отзыв о курсе!\n",
        "\n",
        "https://forms.gle/LajA3Xrps6u96Q5A8\n",
        "\n",
        "\n",
        "Это очень важно. Благодаря обратной связи мы будем двигаться в сторону антиградиента)\n"
      ],
      "metadata": {
        "id": "EqHzTXCllZO8"
      }
    }
  ],
  "metadata": {
    "kernelspec": {
      "display_name": "Python 3 (ipykernel)",
      "language": "python",
      "name": "python3"
    },
    "language_info": {
      "codemirror_mode": {
        "name": "ipython",
        "version": 3
      },
      "file_extension": ".py",
      "mimetype": "text/x-python",
      "name": "python",
      "nbconvert_exporter": "python",
      "pygments_lexer": "ipython3",
      "version": "3.9.7"
    },
    "nbTranslate": {
      "displayLangs": [
        "*"
      ],
      "hotkey": "alt-t",
      "langInMainMenu": true,
      "sourceLang": "en",
      "targetLang": "fr",
      "useGoogleTranslate": true
    },
    "toc": {
      "base_numbering": 1,
      "nav_menu": {
        "height": "210px",
        "width": "492px"
      },
      "number_sections": false,
      "sideBar": true,
      "skip_h1_title": false,
      "title_cell": "Table of Contents",
      "title_sidebar": "Contents",
      "toc_cell": false,
      "toc_position": {},
      "toc_section_display": true,
      "toc_window_display": true
    },
    "varInspector": {
      "cols": {
        "lenName": 16,
        "lenType": 16,
        "lenVar": 40
      },
      "kernels_config": {
        "python": {
          "delete_cmd_postfix": "",
          "delete_cmd_prefix": "del ",
          "library": "var_list.py",
          "varRefreshCmd": "print(var_dic_list())"
        },
        "r": {
          "delete_cmd_postfix": ") ",
          "delete_cmd_prefix": "rm(",
          "library": "var_list.r",
          "varRefreshCmd": "cat(var_dic_list()) "
        }
      },
      "types_to_exclude": [
        "module",
        "function",
        "builtin_function_or_method",
        "instance",
        "_Feature"
      ],
      "window_display": false
    },
    "colab": {
      "provenance": []
    }
  },
  "nbformat": 4,
  "nbformat_minor": 0
}